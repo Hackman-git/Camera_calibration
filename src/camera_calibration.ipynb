{
 "cells": [
  {
   "cell_type": "code",
   "execution_count": 315,
   "metadata": {},
   "outputs": [],
   "source": [
    "import pandas as pd\n",
    "import numpy as np\n",
    "import glob\n",
    "import cv2 as cv"
   ]
  },
  {
   "cell_type": "code",
   "execution_count": 494,
   "metadata": {},
   "outputs": [],
   "source": [
    "BASE_PATH = r\"C:\\Users\\abdul\\Desktop\\CS 512 - Computer vision\\Homework\\HW4\\data\"\n",
    "GOOD_TEST_DATA_PATH= BASE_PATH+ r\"\\non_planar_test_data.csv\"\n",
    "NOISY_DATA_PATH_1 = BASE_PATH+ r\"\\noisy_test_data_1.csv\"\n",
    "NOISY_DATA_PATH_2 = BASE_PATH+ r\"\\noisy_test_data_2.csv\"\n",
    "IMAGES_PATH = BASE_PATH+ r\"\\images\\*.jpg\"\n",
    "OUTPUT_PATH = BASE_PATH+ r\"\\out\"\n",
    "POINTS_FROM_SAVED_IMAGE = BASE_PATH+ r\"\\out\\chess10_img_pts.csv\""
   ]
  },
  {
   "cell_type": "code",
   "execution_count": 495,
   "metadata": {
    "scrolled": true
   },
   "outputs": [],
   "source": [
    "# termination criteria\n",
    "criteria = (cv.TERM_CRITERIA_EPS + cv.TERM_CRITERIA_MAX_ITER, 30, 0.001)\n",
    "\n",
    "# prepare object points, like (0,0,0), (1,0,0), (2,0,0) ....,(6,5,0)\n",
    "obj_point = np.zeros((6*7,3), np.float32)\n",
    "obj_point[:,:2] = np.mgrid[0:7,0:6].T.reshape(-1,2)\n"
   ]
  },
  {
   "cell_type": "code",
   "execution_count": 485,
   "metadata": {},
   "outputs": [
    {
     "name": "stdout",
     "output_type": "stream",
     "text": [
      "img:  C:\\Users\\abdul\\Desktop\\CS 512 - Computer vision\\Homework\\HW4\\data\\images\\left01.jpg\n",
      "img:  C:\\Users\\abdul\\Desktop\\CS 512 - Computer vision\\Homework\\HW4\\data\\images\\left03.jpg\n",
      "img:  C:\\Users\\abdul\\Desktop\\CS 512 - Computer vision\\Homework\\HW4\\data\\images\\left04.jpg\n",
      "img:  C:\\Users\\abdul\\Desktop\\CS 512 - Computer vision\\Homework\\HW4\\data\\images\\left05.jpg\n",
      "img:  C:\\Users\\abdul\\Desktop\\CS 512 - Computer vision\\Homework\\HW4\\data\\images\\left06.jpg\n",
      "img:  C:\\Users\\abdul\\Desktop\\CS 512 - Computer vision\\Homework\\HW4\\data\\images\\left07.jpg\n",
      "img:  C:\\Users\\abdul\\Desktop\\CS 512 - Computer vision\\Homework\\HW4\\data\\images\\left08.jpg\n",
      "img:  C:\\Users\\abdul\\Desktop\\CS 512 - Computer vision\\Homework\\HW4\\data\\images\\left12.jpg\n",
      "img:  C:\\Users\\abdul\\Desktop\\CS 512 - Computer vision\\Homework\\HW4\\data\\images\\left13.jpg\n",
      "img:  C:\\Users\\abdul\\Desktop\\CS 512 - Computer vision\\Homework\\HW4\\data\\images\\left14.jpg\n"
     ]
    }
   ],
   "source": [
    "# Arrays to store object points and image points from all the images.\n",
    "# 3d point in real world space\n",
    "obj_points = []\n",
    " # 2d points in image plane.\n",
    "img_points = []\n",
    "\n",
    "images = glob.glob(IMAGES_PATH)\n",
    "for fname in images:\n",
    "    img = cv.imread(fname)\n",
    "    gray = cv.cvtColor(img, cv.COLOR_BGR2GRAY)\n",
    "    \n",
    "    # Find the chess board corners\n",
    "    ret, corners = cv.findChessboardCorners(gray, (7,6), None)\n",
    "    # If found, add object points, image points (after refining them)\n",
    "    if ret == True:\n",
    "        print('img: ', fname)\n",
    "        obj_points.append(obj_point*20)\n",
    "        corners2 = cv.cornerSubPix(gray,corners, (11,11), (-1,-1), criteria)\n",
    "        img_points.append(corners2)\n",
    "        \n",
    "        # Draw and display the corners\n",
    "        cv.drawChessboardCorners(img, (7,6), corners2, ret)\n",
    "        cv.imshow('img', img)\n",
    "        cv.waitKey(500)\n",
    "        \n",
    "cv.destroyAllWindows()"
   ]
  },
  {
   "cell_type": "code",
   "execution_count": 486,
   "metadata": {},
   "outputs": [],
   "source": [
    "def save_img_points(img_points, obj_points):\n",
    "    '''\n",
    "    input: img_points -- a list of shape [n_images,n_points,1,2]\n",
    "            obj_points -- a list of shape [n_images,n_points,3]\n",
    "    '''\n",
    "    img_points = np.array(img_points)\n",
    "    obj_points = np.array(obj_points)\n",
    "    shape = img_points.shape\n",
    "    img_points = img_points.reshape([shape[0],shape[1],shape[-1]])\n",
    "    for i in range(img_points.shape[0]):\n",
    "        df = pd.DataFrame(img_points[i], columns=['x_img','y_img'])\n",
    "        df2 = pd.DataFrame(obj_points[i], columns=['x_w','y_w','z_w'])\n",
    "        df3 = pd.concat([df2,df], axis=1)\n",
    "        df3.to_csv(OUTPUT_PATH + r\"\\chess{}_img_pts.csv\".format(i+1),\n",
    "                  encoding='utf-8', index=False)"
   ]
  },
  {
   "cell_type": "code",
   "execution_count": 487,
   "metadata": {},
   "outputs": [],
   "source": [
    "# save the image points found as csv\n",
    "save_img_points(img_points, obj_points)"
   ]
  },
  {
   "cell_type": "code",
   "execution_count": 488,
   "metadata": {},
   "outputs": [],
   "source": [
    "def evaluate_fit(points_df, M):\n",
    "    total_error = 0\n",
    "    for i in range(points_df.shape[0]):\n",
    "        world_point = list(points_df.loc[i, ['x_w','y_w','z_w']])\n",
    "        world_point.extend([1])\n",
    "        x_img = points_df.x_img.values[i]\n",
    "        y_img = points_df.y_img.values[i]\n",
    "        temp = np.linalg.norm([x_img-(M[0].dot(world_point) / M[2].dot(world_point))],ord=2) ** 2 + \\\n",
    "                np.linalg.norm([y_img-(M[1].dot(world_point) / M[2].dot(world_point))],ord=2) ** 2\n",
    "        total_error += temp\n",
    "    total_error /= points_df.shape[0]\n",
    "    total_error = np.sqrt(total_error)\n",
    "    \n",
    "    return total_error"
   ]
  },
  {
   "cell_type": "code",
   "execution_count": 493,
   "metadata": {},
   "outputs": [],
   "source": [
    "def calibration(point_file):\n",
    "    '''\n",
    "    input: point_file -- a csv file containing world points(x_w,y_w,z_w) and image\n",
    "            points(x_img,y_img) as column names\n",
    "    '''\n",
    "    points_df = pd.read_csv(point_file)\n",
    "    \n",
    "    A_matrix = []\n",
    "#     create A_matrix\n",
    "    for i in range(points_df.shape[0]):\n",
    "        world_point = list(points_df.loc[i, ['x_w','y_w','z_w']])\n",
    "        world_point.extend([1])\n",
    "        r1 = world_point.copy()\n",
    "        r1.extend([0.0,0.0,0.0,0.0])\n",
    "        x_img = points_df.x_img.values[i]\n",
    "        temp = [-x_img*i for i in world_point]\n",
    "        r1.extend(temp)\n",
    "        A_matrix.append(r1)\n",
    "\n",
    "        r3 = [0.0,0.0,0.0,0.0]\n",
    "        r3.extend(world_point)\n",
    "        y_img = points_df.y_img.values[i]\n",
    "        temp2 = [-y_img*i for i in world_point]\n",
    "        r3.extend(temp2)\n",
    "        A_matrix.append(r3)\n",
    "    A_matrix = np.array(A_matrix)\n",
    "        \n",
    "    zero_matrix = np.zeros((A_matrix.shape[0], 1))\n",
    "    \n",
    "#     solve Ax=0 with SVD\n",
    "    U,s,Vt = np.linalg.svd(A_matrix)\n",
    "    smallest = np.argmin(s)\n",
    "    M = Vt[smallest]\n",
    "    M = np.reshape(M, (3,4))\n",
    "    \n",
    "#     solve for intrinsic camera parameters\n",
    "    a_matx = M[:,:3]\n",
    "    a3 = a_matx[-1]; a1 = a_matx[0]; a2 = a_matx[1]\n",
    "    a3_norm = np.linalg.norm(a3)\n",
    "    scale_mag = 1/a3_norm\n",
    "    u_knot = scale_mag**2 * a1.dot(a3)\n",
    "    v_knot = scale_mag**2 * a2.dot(a3)\n",
    "    alpha_v = np.sqrt(scale_mag**2 * a2.dot(a2) - v_knot**2)\n",
    "    alpha_u = np.sqrt(scale_mag**2 * a1.dot(a1) - skew**2 - u_knot**2)\n",
    "    K = np.array([[alpha_u, skew, u_knot],[0, alpha_v, v_knot],[0, 0, 1]])\n",
    "    \n",
    "#     solve for extrinsic camera parameters\n",
    "    b = M[:, -1]\n",
    "    epsilon = np.sign(b[-1])\n",
    "    T = epsilon*scale_mag*(np.matmul(np.linalg.inv(K), b))\n",
    "    \n",
    "    r1 = scale_mag**2 / (alpha_v) *np.cross(a2,a3)\n",
    "    r3 = epsilon*scale_mag*a3\n",
    "    r2 = np.cross(r3,r1)\n",
    "    R = np.array([r1,r2,r3])\n",
    "    \n",
    "#   evaluate fitting error\n",
    "    total_error = evaluate_fit(points_df, M)\n",
    "        \n",
    "    return (K, T, R, total_error)"
   ]
  },
  {
   "cell_type": "code",
   "execution_count": 499,
   "metadata": {},
   "outputs": [],
   "source": [
    "K, T, R, error = calibration(GOOD_TEST_DATA_PATH)"
   ]
  },
  {
   "cell_type": "code",
   "execution_count": 500,
   "metadata": {},
   "outputs": [],
   "source": [
    "def show_results(K, T, R, error):\n",
    "    print('Intrinsic camera parameters:\\n----------------------------------\\n')\n",
    "    print('(alpha_u, alpha_v): ', (K[0,0],K[1,1]) )\n",
    "    print('skew: ', K[0,1])\n",
    "    print('(Uo,Vo): ', (K[0,2],K[1,2]))\n",
    "    \n",
    "    print('\\nExtrinsic camera parameters:\\n----------------------------------\\n')\n",
    "    print('Rotation: ', R)\n",
    "    print('Translation: ', T)\n",
    "    \n",
    "    print('Error in fit: ', error)"
   ]
  },
  {
   "cell_type": "code",
   "execution_count": 501,
   "metadata": {},
   "outputs": [
    {
     "name": "stdout",
     "output_type": "stream",
     "text": [
      "Intrinsic camera parameters:\n",
      "----------------------------------\n",
      "\n",
      "(alpha_u, alpha_v):  (491.3318693106586, 495.93049552038354)\n",
      "skew:  0.0\n",
      "(Uo,Vo):  (312.01561915892444, 212.28232543256848)\n",
      "\n",
      "Extrinsic camera parameters:\n",
      "----------------------------------\n",
      "\n",
      "Rotation:  [[-0.77214303  0.63524585 -0.01605778]\n",
      " [ 0.41336662  0.48293491 -0.77194683]\n",
      " [-0.48262116 -0.60269111 -0.63548426]]\n",
      "Translation:  [ 13.25883875  44.83081557 845.73240224]\n",
      "Error in fit:  7.273199491291778\n"
     ]
    }
   ],
   "source": [
    "show_results(K, T, R, error)"
   ]
  },
  {
   "cell_type": "code",
   "execution_count": null,
   "metadata": {},
   "outputs": [],
   "source": []
  }
 ],
 "metadata": {
  "kernelspec": {
   "display_name": "Python 3",
   "language": "python",
   "name": "python3"
  },
  "language_info": {
   "codemirror_mode": {
    "name": "ipython",
    "version": 3
   },
   "file_extension": ".py",
   "mimetype": "text/x-python",
   "name": "python",
   "nbconvert_exporter": "python",
   "pygments_lexer": "ipython3",
   "version": "3.7.6"
  }
 },
 "nbformat": 4,
 "nbformat_minor": 4
}
